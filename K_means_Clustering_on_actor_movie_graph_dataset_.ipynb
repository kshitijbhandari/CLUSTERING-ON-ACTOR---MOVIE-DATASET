{
  "nbformat": 4,
  "nbformat_minor": 0,
  "metadata": {
    "colab": {
      "provenance": []
    },
    "kernelspec": {
      "name": "python3",
      "display_name": "Python 3"
    },
    "language_info": {
      "name": "python"
    }
  },
  "cells": [
    {
      "cell_type": "code",
      "source": [
        "!pip install stellargraph\n",
        "# !pip install networkx==2.3"
      ],
      "metadata": {
        "id": "wBUjnYi3Upw3"
      },
      "execution_count": null,
      "outputs": []
    },
    {
      "cell_type": "markdown",
      "source": [
        "# <font color='red'>Task 1 : Apply clustering algorithm to group similar actors</font>"
      ],
      "metadata": {
        "id": "Qyv6ZTo5vGhE"
      }
    },
    {
      "cell_type": "markdown",
      "source": [
        "1. For this task consider only the actor nodes\n",
        " 2. Apply any clustering algorithm of your choice <br>\n",
        "    Refer : https://scikit-learn.org/stable/modules/clustering.html\n",
        " 3. Choose the number of clusters for which you have maximum score of <b>$Cost1*Cost2$</b><br>\n",
        " 4. Cost1 = $\\frac{1}{N}\\sum_{\\text{each cluster i}}  \\frac{\\text{(number of nodes in the largest connected component in the graph with the actor nodes and its movie neighbours in cluster i)}}{\\text{(total number of nodes in that cluster i)}}$ where N= number of clusters\n",
        "<br> (Write your code in <font color='blue'>def cost1()</font>)<br>\n",
        " 5. Cost2 = $\\frac{1}{N}\\sum_{\\text{each cluster i}}  \\frac{\\text{(sum of degress of actor nodes in the graph with the actor nodes and its movie neighbours in cluster i)}}{\\text{(number of unique movie nodes in the graph with the actor nodes and its movie neighbours in cluster i)}}$ where N= number of clusters\n",
        " <br> (Write your code in <font color='blue'>def cost2()</font>)<br>\n",
        " 6. Fit the clustering algorithm with the opimal number_of_clusters and get the cluster number for each node <br>\n",
        " 7. Convert the d-dimensional dense vectors of nodes into 2-dimensional using dimensionality reduction techniques (preferably TSNE)<br>\n",
        " 8. Plot the 2d scatter plot, with the node vectors after step e and give colors to nodes such that same cluster nodes will have same color"
      ],
      "metadata": {
        "id": "tWncoUC_u9Yg"
      }
    },
    {
      "cell_type": "markdown",
      "source": [
        "<img src='https://i.imgur.com/4SPYPFa.jpg'>"
      ],
      "metadata": {
        "id": "Ve4ADllOvOvF"
      }
    },
    {
      "cell_type": "code",
      "source": [
        "import networkx as nx\n",
        "from networkx.algorithms import bipartite\n",
        "import matplotlib.pyplot as plt\n",
        "from sklearn.cluster import KMeans\n",
        "import numpy as np\n",
        "import warnings\n",
        "warnings.filterwarnings(\"ignore\")\n",
        "import pandas as pd\n",
        "# you need to have tensorflow\n",
        "from stellargraph.data import UniformRandomMetaPathWalk\n",
        "from stellargraph import StellarGraph\n",
        "from sklearn.cluster import KMeans\n",
        "from sklearn.manifold import TSNE\n",
        "import matplotlib.pyplot as plt"
      ],
      "metadata": {
        "id": "7ZkyEHLFLG6Y"
      },
      "execution_count": null,
      "outputs": []
    },
    {
      "cell_type": "code",
      "source": [
        "from google.colab import files\n",
        "files=files.upload()"
      ],
      "metadata": {
        "colab": {
          "resources": {
            "http://localhost:8080/nbextensions/google.colab/files.js": {
              "data": "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",
              "ok": true,
              "headers": [
                [
                  "content-type",
                  "application/javascript"
                ]
              ],
              "status": 200,
              "status_text": ""
            }
          },
          "base_uri": "https://localhost:8080/",
          "height": 74
        },
        "id": "hpCs-yJKLOMW",
        "outputId": "abadf538-15e3-46cc-ae22-10d1c3aa13b5"
      },
      "execution_count": null,
      "outputs": [
        {
          "output_type": "display_data",
          "data": {
            "text/plain": [
              "<IPython.core.display.HTML object>"
            ],
            "text/html": [
              "\n",
              "     <input type=\"file\" id=\"files-832c5d22-23af-412e-bebe-5ca4f82f5d19\" name=\"files[]\" multiple disabled\n",
              "        style=\"border:none\" />\n",
              "     <output id=\"result-832c5d22-23af-412e-bebe-5ca4f82f5d19\">\n",
              "      Upload widget is only available when the cell has been executed in the\n",
              "      current browser session. Please rerun this cell to enable.\n",
              "      </output>\n",
              "      <script src=\"/nbextensions/google.colab/files.js\"></script> "
            ]
          },
          "metadata": {}
        },
        {
          "output_type": "stream",
          "name": "stdout",
          "text": [
            "Saving movie_actor_network.csv to movie_actor_network.csv\n"
          ]
        }
      ]
    },
    {
      "cell_type": "code",
      "source": [
        "data=pd.read_csv('movie_actor_network.csv', index_col=False, names=['movie','actor'])"
      ],
      "metadata": {
        "id": "ZnbL7mpMLll6"
      },
      "execution_count": null,
      "outputs": []
    },
    {
      "cell_type": "code",
      "source": [
        "edges = [tuple(x) for x in data.values.tolist()]    #list of tuples\n",
        "len(edges)"
      ],
      "metadata": {
        "colab": {
          "base_uri": "https://localhost:8080/"
        },
        "id": "bzmTF4EUNyyS",
        "outputId": "c4aca493-aae9-4880-c482-8bc2c3500ea4"
      },
      "execution_count": null,
      "outputs": [
        {
          "output_type": "execute_result",
          "data": {
            "text/plain": [
              "9650"
            ]
          },
          "metadata": {},
          "execution_count": 6
        }
      ]
    },
    {
      "cell_type": "code",
      "source": [
        "p=data['movie']\n",
        "p"
      ],
      "metadata": {
        "id": "Z4eQwciIP9oh",
        "colab": {
          "base_uri": "https://localhost:8080/"
        },
        "outputId": "fe4a7e7a-f174-4028-dd45-0f3b3a957eb4"
      },
      "execution_count": null,
      "outputs": [
        {
          "output_type": "execute_result",
          "data": {
            "text/plain": [
              "0          m1\n",
              "1          m2\n",
              "2          m2\n",
              "3          m3\n",
              "4          m3\n",
              "        ...  \n",
              "9645    m1380\n",
              "9646    m1380\n",
              "9647    m1381\n",
              "9648    m1381\n",
              "9649    m1381\n",
              "Name: movie, Length: 9650, dtype: object"
            ]
          },
          "metadata": {},
          "execution_count": 7
        }
      ]
    },
    {
      "cell_type": "code",
      "source": [
        "B = nx.Graph()\n",
        "B.add_nodes_from(data['movie'].unique(), bipartite=0, label='movie')\n",
        "B.add_nodes_from(data['actor'].unique(), bipartite=1, label='actor')\n",
        "B.add_edges_from(edges, label='acted')\n"
      ],
      "metadata": {
        "id": "q18YqDoSN8O8"
      },
      "execution_count": null,
      "outputs": []
    },
    {
      "cell_type": "code",
      "source": [
        "A=list(B.subgraph(c) for c in nx.connected_components(B))[0]\n",
        "len(A)"
      ],
      "metadata": {
        "colab": {
          "base_uri": "https://localhost:8080/"
        },
        "id": "ob8E-A0aWRIy",
        "outputId": "0e063b55-e3a0-49a8-88e5-babdfafe3f31"
      },
      "execution_count": null,
      "outputs": [
        {
          "output_type": "execute_result",
          "data": {
            "text/plain": [
              "4703"
            ]
          },
          "metadata": {},
          "execution_count": 9
        }
      ]
    },
    {
      "cell_type": "code",
      "source": [
        "print(\"number of nodes\", A.number_of_nodes())\n",
        "print(\"number of edges\", A.number_of_edges())"
      ],
      "metadata": {
        "colab": {
          "base_uri": "https://localhost:8080/"
        },
        "id": "HpDbjuCRWC4B",
        "outputId": "8ab54220-0571-4ab0-8d92-5a290e6e3722"
      },
      "execution_count": null,
      "outputs": [
        {
          "output_type": "stream",
          "name": "stdout",
          "text": [
            "number of nodes 4703\n",
            "number of edges 9650\n"
          ]
        }
      ]
    },
    {
      "cell_type": "code",
      "source": [
        "l, r = nx.bipartite.sets(A)\n",
        "pos = {}\n",
        "\n",
        "pos.update((node, (1, index)) for index, node in enumerate(l))\n",
        "pos.update((node, (2, index)) for index, node in enumerate(r))\n",
        "\n",
        "nx.draw(A, pos=pos, with_labels=True)\n",
        "plt.show()"
      ],
      "metadata": {
        "colab": {
          "base_uri": "https://localhost:8080/",
          "height": 319
        },
        "id": "uElgziQJZjO4",
        "outputId": "7e66f97e-77bf-4e36-eb38-f5f0bc125444"
      },
      "execution_count": null,
      "outputs": [
        {
          "output_type": "display_data",
          "data": {
            "text/plain": [
              "<Figure size 432x288 with 1 Axes>"
            ],
            "image/png": "[encoded data removed]"
          },
          "metadata": {}
        }
      ]
    },
    {
      "cell_type": "code",
      "source": [
        "movies = []\n",
        "actors = []\n",
        "for i in A.nodes():\n",
        "    if 'm' in i:\n",
        "        movies.append(i)\n",
        "    if 'a' in i:\n",
        "        actors.append(i)\n",
        "print('number of movies ', len(movies))\n",
        "print('number of actors ', len(actors))\n",
        "# movies\n",
        "# actors"
      ],
      "metadata": {
        "colab": {
          "base_uri": "https://localhost:8080/"
        },
        "id": "GxWh7F7GZj11",
        "outputId": "87006cd3-ea11-40e5-b710-b9ef3edfe02b"
      },
      "execution_count": null,
      "outputs": [
        {
          "output_type": "stream",
          "name": "stdout",
          "text": [
            "number of movies  1292\n",
            "number of actors  3411\n"
          ]
        }
      ]
    },
    {
      "cell_type": "code",
      "source": [
        "# Create the random walker\n",
        "rw = UniformRandomMetaPathWalk(StellarGraph(A))\n",
        "\n",
        "# specify the metapath schemas as a list of lists of node types.\n",
        "metapaths = [\n",
        "    [\"movie\", \"actor\", \"movie\"],\n",
        "    [\"actor\", \"movie\", \"actor\"]\n",
        "]\n",
        "\n",
        "walks = rw.run(nodes=list(A.nodes()), # root nodes\n",
        "               length=100,  # maximum length of a random walk\n",
        "               n=1,        # number of random walks per root node\n",
        "               metapaths=metapaths\n",
        "              )\n",
        "\n",
        "print(\"Number of random walks: {}\".format(len(walks)))"
      ],
      "metadata": {
        "colab": {
          "base_uri": "https://localhost:8080/"
        },
        "id": "Kic78lqhaKlW",
        "outputId": "6b433359-7e73-42ad-a64f-97855d570e5c"
      },
      "execution_count": null,
      "outputs": [
        {
          "output_type": "stream",
          "name": "stdout",
          "text": [
            "Number of random walks: 4703\n"
          ]
        }
      ]
    },
    {
      "cell_type": "code",
      "source": [
        "from gensim.models import Word2Vec\n",
        "model = Word2Vec(walks, size=128, window=5)\n",
        "# model.shape"
      ],
      "metadata": {
        "id": "wT-vUGJ1eTVW"
      },
      "execution_count": null,
      "outputs": []
    },
    {
      "cell_type": "code",
      "source": [
        "model.wv.vectors[1]"
      ],
      "metadata": {
        "id": "FpzQ5_4ojOoY",
        "colab": {
          "base_uri": "https://localhost:8080/"
        },
        "outputId": "2863c4ed-6ed8-4f8c-bcc6-18a0679f576d"
      },
      "execution_count": null,
      "outputs": [
        {
          "output_type": "execute_result",
          "data": {
            "text/plain": [
              "array([-1.2108482 , -0.18639505,  0.10946386, -1.6808604 ,  0.80810815,\n",
              "        0.45005918, -1.4147238 , -1.1811717 , -0.01252595,  0.3571136 ,\n",
              "       -0.21524154, -0.35708964, -0.9914322 , -1.5250225 ,  0.15592045,\n",
              "       -1.4730994 , -0.08970065, -0.6606488 , -1.2958102 ,  1.4224199 ,\n",
              "       -1.2987337 ,  1.7347357 ,  1.5803597 , -2.953328  ,  0.80052537,\n",
              "       -0.651071  ,  1.0370982 ,  0.2223822 ,  0.15478304, -1.2626431 ,\n",
              "       -0.6896758 ,  0.888621  ,  0.13186033, -0.58672553,  0.34834355,\n",
              "        0.22774012,  1.6160258 ,  1.2334663 , -1.2340325 ,  1.1735641 ,\n",
              "        0.25430122, -0.15206125, -0.5673316 ,  0.6514489 ,  0.0936063 ,\n",
              "       -0.37970307,  1.8950597 , -2.2328265 , -0.48217723, -0.3373085 ,\n",
              "        1.8638226 ,  0.8996976 , -0.22839294,  0.36576906, -0.64160866,\n",
              "        1.5667784 , -0.78988945,  0.06792061,  0.14303824,  0.43180767,\n",
              "        0.6328551 , -0.35479352, -0.33991623, -1.5735146 ,  0.32751018,\n",
              "        0.8391869 , -0.9387684 , -0.77049434, -0.37744048, -1.5224766 ,\n",
              "       -0.98879343,  0.15248561,  0.39039174,  0.6326551 , -0.5907959 ,\n",
              "        0.9902154 ,  0.3011486 ,  0.34954166, -0.46241847, -0.7605349 ,\n",
              "        0.8500587 ,  1.6133021 , -0.73840076, -0.36967802,  0.9738959 ,\n",
              "       -0.7894884 ,  0.5940744 , -0.59018546,  1.2283612 , -0.555722  ,\n",
              "        1.6969755 , -0.59111863,  2.7879276 , -0.86217934, -0.17367926,\n",
              "        1.3934463 , -0.8008795 , -0.59268373, -0.40457535, -0.17211737,\n",
              "       -2.1505744 ,  0.83630925,  2.4298787 , -0.70545197,  0.06099647,\n",
              "       -0.221652  ,  1.5406094 ,  1.7834315 ,  1.1094785 , -1.6651652 ,\n",
              "       -1.6242551 , -0.714229  ,  0.59772784, -1.2907078 , -0.28151283,\n",
              "       -0.03120705, -1.378709  ,  0.68891156, -0.79847336,  1.2598627 ,\n",
              "        0.9061792 , -0.85257643, -0.7488325 , -1.9086946 ,  1.20835   ,\n",
              "        1.2736759 , -0.02390699,  0.1151251 ], dtype=float32)"
            ]
          },
          "metadata": {},
          "execution_count": 15
        }
      ]
    },
    {
      "cell_type": "code",
      "source": [
        "model.wv.vectors.shape"
      ],
      "metadata": {
        "colab": {
          "base_uri": "https://localhost:8080/"
        },
        "id": "892sDR4NjnWf",
        "outputId": "ef1d154a-add0-4644-c035-0f425b4bb5e4"
      },
      "execution_count": null,
      "outputs": [
        {
          "output_type": "execute_result",
          "data": {
            "text/plain": [
              "(4703, 128)"
            ]
          },
          "metadata": {},
          "execution_count": 16
        }
      ]
    },
    {
      "cell_type": "code",
      "source": [
        "# Retrieve node embeddings and corresponding subjects\n",
        "node_ids = model.wv.index2word  # list of node IDs\n",
        "node_embeddings = model.wv.vectors  # numpy.ndarray of size number of nodes times embeddings dimensionality\n",
        "node_targets = [ A.nodes[node_id]['label'] for node_id in node_ids]"
      ],
      "metadata": {
        "id": "oq6m4Hsrj6eq"
      },
      "execution_count": null,
      "outputs": []
    },
    {
      "cell_type": "code",
      "source": [
        "len(node_ids)"
      ],
      "metadata": {
        "colab": {
          "base_uri": "https://localhost:8080/"
        },
        "id": "PUU0xik0031s",
        "outputId": "f0bdf42d-ee02-4c1b-ec2a-6048a9a684a1"
      },
      "execution_count": null,
      "outputs": [
        {
          "output_type": "execute_result",
          "data": {
            "text/plain": [
              "4703"
            ]
          },
          "metadata": {},
          "execution_count": 18
        }
      ]
    },
    {
      "cell_type": "code",
      "source": [
        "print (node_ids[0:15])\n",
        "print(node_targets[0:15])"
      ],
      "metadata": {
        "colab": {
          "base_uri": "https://localhost:8080/"
        },
        "id": "xzXS0BYClW14",
        "outputId": "5fd5ae05-dd8b-412e-a050-40b2001b167e"
      },
      "execution_count": null,
      "outputs": [
        {
          "output_type": "stream",
          "name": "stdout",
          "text": [
            "['a973', 'a967', 'a964', 'a1731', 'a970', 'a969', 'a1028', 'a1057', 'm1094', 'a965', 'a1003', 'm1111', 'a959', 'm67', 'a988']\n",
            "['actor', 'actor', 'actor', 'actor', 'actor', 'actor', 'actor', 'actor', 'movie', 'actor', 'actor', 'movie', 'actor', 'movie', 'actor']\n"
          ]
        }
      ]
    },
    {
      "cell_type": "code",
      "source": [
        "def data_split(node_ids,node_targets,node_embeddings):\n",
        "    '''In this function, we will split the node embeddings into actor_embeddings , movie_embeddings '''\n",
        "    actor_nodes,movie_nodes=[],[]\n",
        "    actor_embeddings,movie_embeddings=[],[]\n",
        "    for i in range (len(node_ids)):\n",
        "      if \"a\" in node_ids[i]:\n",
        "        actor_nodes.append(node_ids[i])\n",
        "        actor_embeddings.append(node_embeddings[i])\n",
        "      else:\n",
        "        movie_nodes.append(node_ids[i])\n",
        "        movie_embeddings.append(node_embeddings[i])\n",
        "    # split the node_embeddings into actor_embeddings,movie_embeddings based on node_ids\n",
        "    # By using node_embedding and node_targets, we can extract actor_embedding and movie embedding\n",
        "    # By using node_ids and node_targets, we can extract actor_nodes and movie nodes\n",
        "\n",
        "    return actor_nodes,movie_nodes,actor_embeddings,movie_embeddings\n"
      ],
      "metadata": {
        "id": "hhAJKCPmlYr3"
      },
      "execution_count": null,
      "outputs": []
    },
    {
      "cell_type": "code",
      "source": [
        "actor_nodes,movie_nodes,actor_embeddings,movie_embeddings=data_split(node_ids,node_targets,node_embeddings)"
      ],
      "metadata": {
        "id": "Vpwltipz2X5k"
      },
      "execution_count": null,
      "outputs": []
    },
    {
      "cell_type": "code",
      "source": [
        "def grader_actors(data):\n",
        "    assert(len(data)==3411)\n",
        "    return True\n",
        "grader_actors(actor_nodes)"
      ],
      "metadata": {
        "colab": {
          "base_uri": "https://localhost:8080/"
        },
        "id": "U_W8zVsW2YlZ",
        "outputId": "fe41a2d8-1deb-4ed7-c75d-122d90c2e7c1"
      },
      "execution_count": null,
      "outputs": [
        {
          "output_type": "execute_result",
          "data": {
            "text/plain": [
              "True"
            ]
          },
          "metadata": {},
          "execution_count": 22
        }
      ]
    },
    {
      "cell_type": "code",
      "source": [
        "def grader_movies(data):\n",
        "    assert(len(data)==1292)\n",
        "    return True\n",
        "grader_movies(movie_nodes)"
      ],
      "metadata": {
        "colab": {
          "base_uri": "https://localhost:8080/"
        },
        "id": "CuTQaw4Q3aJm",
        "outputId": "16b45042-3b1d-4f4a-b58e-20469f893785"
      },
      "execution_count": null,
      "outputs": [
        {
          "output_type": "execute_result",
          "data": {
            "text/plain": [
              "True"
            ]
          },
          "metadata": {},
          "execution_count": 23
        }
      ]
    },
    {
      "cell_type": "markdown",
      "source": [
        "**calculating cost1**"
      ],
      "metadata": {
        "id": "1NTwlzsO3z13"
      }
    },
    {
      "cell_type": "code",
      "source": [
        "Gcc = sorted(nx.connected_components(B), key=len, reverse=True)\n",
        "gccp=len(Gcc[0])\n",
        "gccp\n",
        "# giant = max(nx.connected_component_subgraphs(B), key=len)\n",
        "# giant.number_of_nodes()"
      ],
      "metadata": {
        "id": "uvEK_RdbsUIi",
        "colab": {
          "base_uri": "https://localhost:8080/"
        },
        "outputId": "b872d1ca-416c-4929-fed7-0796928ebde5"
      },
      "execution_count": null,
      "outputs": [
        {
          "output_type": "execute_result",
          "data": {
            "text/plain": [
              "4703"
            ]
          },
          "metadata": {},
          "execution_count": 25
        }
      ]
    },
    {
      "cell_type": "code",
      "source": [
        "def cost1(graph,number_of_clusters):\n",
        "    '''In this function, we will calculate cost1'''\n",
        "    largest_path=sorted(nx.connected_components(graph), key=len, reverse=True) #https://stackoverflow.com/questions/26105764/how-do-i-get-the-giant-component-of-a-networkx-graph\n",
        "    Nodes_lar_path=len(largest_path[0])\n",
        "    total_nodes=graph.number_of_nodes()\n",
        "\n",
        "    cost1=(1/number_of_clusters)*(Nodes_lar_path/total_nodes)# calculate cost1\n",
        "\n",
        "    return cost1"
      ],
      "metadata": {
        "id": "51oYhiwn4AmJ"
      },
      "execution_count": null,
      "outputs": []
    },
    {
      "cell_type": "code",
      "source": [
        "import networkx as nx\n",
        "from networkx.algorithms import bipartite\n",
        "graded_graph= nx.Graph()\n",
        "graded_graph.add_nodes_from(['a1','a5','a10','a11'], bipartite=0) # Add the node attribute \"bipartite\"\n",
        "graded_graph.add_nodes_from(['m1','m2','m4','m6','m5','m8'], bipartite=1)\n",
        "graded_graph.add_edges_from([('a1','m1'),('a1','m2'),('a1','m4'),('a11','m6'),('a5','m5'),('a10','m8')])\n",
        "l={'a1','a5','a10','a11'};r={'m1','m2','m4','m6','m5','m8'}\n",
        "pos = {}\n",
        "pos.update((node, (1, index)) for index, node in enumerate(l))\n",
        "pos.update((node, (2, index)) for index, node in enumerate(r))\n",
        "nx.draw_networkx(graded_graph, pos=pos, with_labels=True,node_color='lightblue',alpha=0.8,style='dotted',node_size=500)"
      ],
      "metadata": {
        "id": "82DJ1lKTnixM",
        "colab": {
          "base_uri": "https://localhost:8080/",
          "height": 248
        },
        "outputId": "000483ab-4123-4bf1-fd7c-8bba9c67a116"
      },
      "execution_count": null,
      "outputs": [
        {
          "output_type": "display_data",
          "data": {
            "text/plain": [
              "<Figure size 432x288 with 1 Axes>"
            ],
            "image/png": "[encoded data removed]"
          },
          "metadata": {}
        }
      ]
    },
    {
      "cell_type": "code",
      "source": [
        "graded_cost1=cost1(graded_graph,3)\n",
        "def grader_cost1(data):\n",
        "    assert(data==((1/3)*(4/10))) # 1/3 is number of clusters\n",
        "    return True\n",
        "grader_cost1(graded_cost1)"
      ],
      "metadata": {
        "colab": {
          "base_uri": "https://localhost:8080/"
        },
        "id": "aO8boJFZpU97",
        "outputId": "b8aa799e-8c7a-4552-80e6-29ebf8aff3f4"
      },
      "execution_count": null,
      "outputs": [
        {
          "output_type": "execute_result",
          "data": {
            "text/plain": [
              "True"
            ]
          },
          "metadata": {},
          "execution_count": 28
        }
      ]
    },
    {
      "cell_type": "markdown",
      "source": [
        "**Calculating cost2**"
      ],
      "metadata": {
        "id": "D52LqFSTyiF1"
      }
    },
    {
      "cell_type": "code",
      "source": [
        "def cost2(graph,number_of_clusters):\n",
        "    '''In this function, we will calculate cost1'''\n",
        "    graph_list=list(graph.subgraph(c) for c in nx.connected_components(graph))[0]\n",
        "    no_of_edges=graph_list.number_of_edges()\n",
        "    mov_nodes=0\n",
        "    for i in graph_list.nodes():\n",
        "      if 'm' in i:\n",
        "        mov_nodes+=1\n",
        "      else:\n",
        "        pass\n",
        "\n",
        "    cost2= (1/number_of_clusters)*(no_of_edges/mov_nodes) # calculate cost1\n",
        "\n",
        "    return cost2"
      ],
      "metadata": {
        "id": "SjcZLOTGykNT"
      },
      "execution_count": null,
      "outputs": []
    },
    {
      "cell_type": "code",
      "source": [
        "graded_cost2=cost2(graded_graph,3)\n",
        "def grader_cost2(data):\n",
        "    assert(data==((1/3)*(6/6))) # 1/3 is number of clusters\n",
        "    return True\n",
        "grader_cost2(graded_cost2)"
      ],
      "metadata": {
        "colab": {
          "base_uri": "https://localhost:8080/"
        },
        "id": "91FRhox231iG",
        "outputId": "0b914ce7-fdea-4086-ac26-18cb363b05b0"
      },
      "execution_count": null,
      "outputs": [
        {
          "output_type": "execute_result",
          "data": {
            "text/plain": [
              "True"
            ]
          },
          "metadata": {},
          "execution_count": 30
        }
      ]
    },
    {
      "cell_type": "markdown",
      "source": [
        "**GROUPING OF SIMILAR ACTORS**"
      ],
      "metadata": {
        "id": "_MfLVMhwfgAO"
      }
    },
    {
      "cell_type": "code",
      "source": [
        "final=[]\n",
        "clusters_no=[3, 5,10,30,50,100,200,500]    #[3, 5, 10, 30, 50, 100, 200, 500]\n",
        "# grouping=KMeans(n_clusters=i,random_state=0)\n",
        "for i in clusters_no:\n",
        "  grouping=KMeans(n_clusters=i,random_state=0)\n",
        "  cost_1=0\n",
        "  cost_2=0\n",
        "  grouping.fit(actor_embeddings)\n",
        "  label=[]\n",
        "  label=list(grouping.labels_)\n",
        "  # print(len(label))\n",
        "  for j in range (i):\n",
        "    label_actual=[]\n",
        "    for k in range (len(label)):\n",
        "      # label_actual=[]\n",
        "      if label[k]==j:\n",
        "        label_actual.append(actor_nodes[k])\n",
        "      else:\n",
        "        pass\n",
        "    # print(len(label_actual))\n",
        "    # print(label_actual)\n",
        "    g=nx.Graph()\n",
        "    # print(type(g))\n",
        "    for l in label_actual:\n",
        "      subgraph=nx.ego_graph(B,l)\n",
        "      g.add_nodes_from(subgraph.nodes)\n",
        "      g.add_edges_from(subgraph.edges())\n",
        "    # print (type(g))\n",
        "    # print(i)\n",
        "    cost11=cost1(g,i)\n",
        "    cost22=cost2(g,i)\n",
        "    # cost_1.append(cost11)\n",
        "    # cost_2.append(cost22)\n",
        "\n",
        "    cost_1+=cost11\n",
        "    cost_2+=cost22\n",
        "  final_cost=cost_1*cost_2\n",
        "  final.append(final_cost)\n",
        "print (final)\n",
        "\n",
        "\n"
      ],
      "metadata": {
        "colab": {
          "base_uri": "https://localhost:8080/"
        },
        "id": "LFZuIjdify4Y",
        "outputId": "1a2235ca-8a76-4ef5-9d46-4095e0f24e62"
      },
      "execution_count": null,
      "outputs": [
        {
          "output_type": "stream",
          "name": "stdout",
          "text": [
            "[4.16488525824158, 3.297858433071106, 2.058582758130831, 1.8458439850312978, 1.5825263901806415, 1.953159392424419, 1.7657479853049152, 1.918898377592506]\n"
          ]
        }
      ]
    },
    {
      "cell_type": "markdown",
      "source": [
        "The highest cost index is for cluster number 3\n",
        "We will choose optimal number of clusters to be3"
      ],
      "metadata": {
        "id": "KeBKuuOJ1sGi"
      }
    },
    {
      "cell_type": "code",
      "source": [
        "best_cluster_no=3"
      ],
      "metadata": {
        "id": "HDkUaG-K3EMP"
      },
      "execution_count": null,
      "outputs": []
    },
    {
      "cell_type": "markdown",
      "source": [
        "Fitting best cluster number to the algorithm\n"
      ],
      "metadata": {
        "id": "1LGj_HmM3J1M"
      }
    },
    {
      "cell_type": "code",
      "source": [
        "final_grouping=KMeans(n_clusters=best_cluster_no,random_state=0)\n",
        "final_grouping.fit(actor_embeddings)\n",
        "final_labels=final_grouping.labels_\n"
      ],
      "metadata": {
        "id": "nIt5fccv3IkN"
      },
      "execution_count": null,
      "outputs": []
    },
    {
      "cell_type": "code",
      "source": [
        "model=TSNE(n_components=2,perplexity=70,n_iter=1500)\n",
        "actor_embeddings_model=model.fit_transform(actor_embeddings)\n"
      ],
      "metadata": {
        "id": "dqnyBZQ46eON"
      },
      "execution_count": null,
      "outputs": []
    },
    {
      "cell_type": "code",
      "source": [
        "actor_embeddings_model.shape"
      ],
      "metadata": {
        "colab": {
          "base_uri": "https://localhost:8080/"
        },
        "id": "W2tyyFiloEe-",
        "outputId": "178ea271-5735-4c7c-c3a1-60e2b05e6483"
      },
      "execution_count": null,
      "outputs": [
        {
          "output_type": "execute_result",
          "data": {
            "text/plain": [
              "(3411, 2)"
            ]
          },
          "metadata": {},
          "execution_count": 41
        }
      ]
    },
    {
      "cell_type": "code",
      "source": [
        "gra=plt.scatter(actor_embeddings_model[:,0], actor_embeddings_model[:,1], c=final_labels)\n",
        "plt.show()   #70 1500"
      ],
      "metadata": {
        "colab": {
          "base_uri": "https://localhost:8080/",
          "height": 265
        },
        "id": "fl88KCdbqiaT",
        "outputId": "78a07a39-3652-4cbb-f5af-5ff281a9f9bd"
      },
      "execution_count": null,
      "outputs": [
        {
          "output_type": "display_data",
          "data": {
            "text/plain": [
              "<Figure size 432x288 with 1 Axes>"
            ],
            "image/png": "[encoded data removed]"
          },
          "metadata": {
            "needs_background": "light"
          }
        }
      ]
    },
    {
      "cell_type": "markdown",
      "source": [
        "We found out that perplexity=70 and no of iterations=1500 gives the best grouping"
      ],
      "metadata": {
        "id": "csh5_vXYrCaA"
      }
    },
    {
      "cell_type": "markdown",
      "source": [
        "# <font color='red'>Task 2 : Apply clustering algorithm to group similar movies</font>"
      ],
      "metadata": {
        "id": "YeA9H44gvae6"
      }
    },
    {
      "cell_type": "markdown",
      "source": [
        "\n",
        "1. For this task consider only the movie nodes\n",
        "2. Apply any clustering algorithm of your choice\n",
        "3.Choose the number of clusters for which you have maximum score of $Cost1*Cost2$ <br>\n",
        "\n",
        "    Cost1 = $\\frac{1}{N}\\sum_{\\text{each cluster i}}  \\frac{\\text{(number of nodes in the largest connected component in the graph with the movie nodes and its actor neighbours in cluster i)}}{\\text{(total number of nodes in that cluster i)}}$ where N= number of clusters <br>\n",
        "(Write your code in <font color='blue'>def cost1()</font>)<br>\n",
        "\n",
        "4. Cost2 = $\\frac{1}{N}\\sum_{\\text{each cluster i}}  \\frac{\\text{(sum of degress of movie nodes in the graph with the movie nodes and its actor neighbours in cluster i)}}{\\text{(number of unique actor nodes in the graph with the movie nodes and its actor neighbours in cluster i)}}$\n",
        "where N= number of clusters\n",
        "<br>(Write your code in <font color='blue'>def cost2()</font>)<br>"
      ],
      "metadata": {
        "id": "MuZGmG3Pvkd4"
      }
    },
    {
      "cell_type": "markdown",
      "source": [
        "**GROUPING OF SIMILAR MOVIES**"
      ],
      "metadata": {
        "id": "najN6dFIrRv2"
      }
    },
    {
      "cell_type": "code",
      "source": [
        "final_mov=[]\n",
        "clusters_no=[3, 5,10,30,50,100,200,500]    #[3, 5, 10, 30, 50, 100, 200, 500]\n",
        "# grouping=KMeans(n_clusters=i,random_state=2)\n",
        "for i in clusters_no:\n",
        "  grouping=KMeans(n_clusters=i,random_state=1)\n",
        "  cost_1=0\n",
        "  cost_2=0\n",
        "  grouping.fit(movie_embeddings)\n",
        "  label=[]\n",
        "  label=list(grouping.labels_)\n",
        "  # print(len(label))\n",
        "  for j in range (i):\n",
        "    label_actual=[]\n",
        "    for k in range (len(label)):\n",
        "      # label_actual=[]\n",
        "      if label[k]==j:\n",
        "        label_actual.append(movie_nodes[k])\n",
        "      else:\n",
        "        pass\n",
        "    # print(len(label_actual))\n",
        "    # print(label_actual)\n",
        "    g=nx.Graph()\n",
        "    # print(type(g))\n",
        "    for l in label_actual:\n",
        "      subgraph=nx.ego_graph(B,l)\n",
        "      g.add_nodes_from(subgraph.nodes)\n",
        "      g.add_edges_from(subgraph.edges())\n",
        "    # print (type(g))\n",
        "    # print(i)\n",
        "    cost11=cost1(g,i)\n",
        "    cost22=cost2(g,i)\n",
        "    # cost_1.append(cost11)\n",
        "    # cost_2.append(cost22)\n",
        "\n",
        "    cost_1+=cost11\n",
        "    cost_2+=cost22\n",
        "  final_cost=cost_1*cost_2\n",
        "  final_mov.append(final_cost)\n",
        "print (final_mov)"
      ],
      "metadata": {
        "colab": {
          "base_uri": "https://localhost:8080/"
        },
        "id": "lMq7lv62rQn7",
        "outputId": "932828f7-d06c-4105-8a1e-a35c57026bfe"
      },
      "execution_count": null,
      "outputs": [
        {
          "output_type": "stream",
          "name": "stdout",
          "text": [
            "[8.461142534588934, 10.319668269928883, 8.810897187191257, 12.550309583576286, 14.473585254039941, 14.254052080932377, 12.72222980044209, 10.306221579385804]\n"
          ]
        }
      ]
    },
    {
      "cell_type": "markdown",
      "source": [
        "The cost metric is maximum for number of clusters=50\n",
        "So, we choose best cluster size=50"
      ],
      "metadata": {
        "id": "dV1rVpO9vpLf"
      }
    },
    {
      "cell_type": "code",
      "source": [
        "best_cluster_no_mov=50"
      ],
      "metadata": {
        "id": "C7n-O_hJvnuA"
      },
      "execution_count": null,
      "outputs": []
    },
    {
      "cell_type": "code",
      "source": [
        "final_grouping_mov=KMeans(n_clusters=best_cluster_no_mov,random_state=0)\n",
        "final_grouping_mov.fit(movie_embeddings)\n",
        "final_labels_mov=final_grouping_mov.labels_\n"
      ],
      "metadata": {
        "id": "67TeAYz4wAgo"
      },
      "execution_count": null,
      "outputs": []
    },
    {
      "cell_type": "code",
      "source": [
        "model_mov=TSNE(n_components=2,perplexity=150,n_iter=5000)\n",
        "movie_embeddings_model=model_mov.fit_transform(movie_embeddings)\n",
        "movie_embeddings_model.shape"
      ],
      "metadata": {
        "colab": {
          "base_uri": "https://localhost:8080/"
        },
        "id": "JcsVL1JfwTO3",
        "outputId": "7bce4fcc-3a3b-4c20-f966-23cfd73fcf85"
      },
      "execution_count": null,
      "outputs": [
        {
          "output_type": "execute_result",
          "data": {
            "text/plain": [
              "(1292, 2)"
            ]
          },
          "metadata": {},
          "execution_count": 73
        }
      ]
    },
    {
      "cell_type": "code",
      "source": [
        "plt.scatter(movie_embeddings_model[:,0], movie_embeddings_model[:,1], c=final_labels_mov)\n",
        "plt.show()   #100,3000"
      ],
      "metadata": {
        "colab": {
          "base_uri": "https://localhost:8080/",
          "height": 265
        },
        "id": "p4hAt0JqyUKz",
        "outputId": "dce1fc43-9bd7-425c-cd1b-4fbe560dd4e7"
      },
      "execution_count": null,
      "outputs": [
        {
          "output_type": "display_data",
          "data": {
            "text/plain": [
              "<Figure size 432x288 with 1 Axes>"
            ],
            "image/png": "[encoded data removed]"
          },
          "metadata": {
            "needs_background": "light"
          }
        }
      ]
    },
    {
      "cell_type": "markdown",
      "source": [
        "We found out the best clustering with perplexity=150 and iterations=5000"
      ],
      "metadata": {
        "id": "sWDuq9vLy8oS"
      }
    }
  ]
}